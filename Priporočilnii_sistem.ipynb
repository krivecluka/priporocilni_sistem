{
 "cells": [
  {
   "cell_type": "code",
   "execution_count": 305,
   "id": "37178ebb",
   "metadata": {},
   "outputs": [],
   "source": [
    "import pickle\n",
    "import csv\n",
    "import pandas as pd\n",
    "import random"
   ]
  },
  {
   "cell_type": "code",
   "execution_count": 301,
   "id": "a553c0de",
   "metadata": {},
   "outputs": [],
   "source": [
    "class UserItemData:\n",
    "    def __init__(self, path_to_data, start_date=None, end_date=None, min_ratings=0):\n",
    "        self.path_to_data = path_to_data\n",
    "        self.start_date = start_date\n",
    "        self.end_date = end_date\n",
    "        self.min_ratings = min_ratings\n",
    "        self.data = pd.read_csv(self.path_to_data, sep='\\t')\n",
    "\n",
    "\n",
    "    def drop_min(self, df):\n",
    "        grouped = df.groupby('movieID')\n",
    "        filtered = grouped.filter(lambda x: len(x) >= self.min_ratings)\n",
    "        return filtered\n",
    "        \n",
    "    \n",
    "    def nratings(self):\n",
    "        df = self.data\n",
    "        if self.start_date is not None:\n",
    "            start_d = \"{0}-{1}-{2}\".format(self.start_date.split('.')[2],self.start_date.split('.')[1],self.start_date.split('.')[0])\n",
    "            end_d = \"{0}-{1}-{2}\".format(self.end_date.split('.')[2],self.end_date.split('.')[1],self.end_date.split('.')[0])\n",
    "\n",
    "            \n",
    "            df['date'] = pd.to_datetime(dict(year=df.date_year, month=df.date_month, day=df.date_day))\n",
    "            df = df[(df['date'] >= start_d)&(df['date'] < end_d)]\n",
    "        df = self.drop_min(df)\n",
    "        \n",
    "        self.save_data(df)\n",
    "        return df.shape[0]    \n",
    "\n",
    "    def save_data(self,df):\n",
    "        df.to_pickle('df.pkl')\n",
    "\n"
   ]
  },
  {
   "cell_type": "code",
   "execution_count": 302,
   "id": "9cb9623c",
   "metadata": {},
   "outputs": [
    {
     "name": "stdout",
     "output_type": "stream",
     "text": [
      "855598\n",
      "73584\n"
     ]
    }
   ],
   "source": [
    "uim = UserItemData('data/user_ratedmovies.dat')\n",
    "print(uim.nratings())\n",
    "\n",
    "uim = UserItemData('data/user_ratedmovies.dat', start_date = '12.1.2007', end_date='16.2.2008', min_ratings=100)\n",
    "print(uim.nratings())"
   ]
  },
  {
   "cell_type": "code",
   "execution_count": 303,
   "id": "537209a6",
   "metadata": {},
   "outputs": [],
   "source": [
    "class MovieData:\n",
    "    def __init__(self, path_to_data):\n",
    "        self.data = pd.read_csv(path_to_data, sep='\\t', encoding='latin-1')\n",
    "\n",
    "    def get_title(self, movie_id):\n",
    "        return self.data[self.data['id'] == movie_id]['title'].iloc[0]"
   ]
  },
  {
   "cell_type": "code",
   "execution_count": 304,
   "id": "a8a3e514",
   "metadata": {},
   "outputs": [
    {
     "name": "stdout",
     "output_type": "stream",
     "text": [
      "Toy story\n"
     ]
    }
   ],
   "source": [
    "md = MovieData('data/movies.dat')\n",
    "print(md.get_title(1))"
   ]
  },
  {
   "cell_type": "code",
   "execution_count": 309,
   "id": "962e4ccf",
   "metadata": {},
   "outputs": [],
   "source": [
    "class RandomPredictor:\n",
    "    def __init__(self, min_rating, max_rating):\n",
    "        self.min_rating = min_rating\n",
    "        self.max_rating = max_rating\n",
    "\n",
    "    def predict(self, product_id):\n",
    "        return random.randint(self.min_rating, self.max_rating)\n"
   ]
  },
  {
   "cell_type": "code",
   "execution_count": 314,
   "id": "508c02b6",
   "metadata": {},
   "outputs": [
    {
     "name": "stdout",
     "output_type": "stream",
     "text": [
      "5\n"
     ]
    }
   ],
   "source": [
    "rp = RandomPredictor(1, 5)\n",
    "print(rp.predict(1))"
   ]
  },
  {
   "cell_type": "code",
   "execution_count": null,
   "id": "23171267",
   "metadata": {},
   "outputs": [],
   "source": []
  }
 ],
 "metadata": {
  "kernelspec": {
   "display_name": "Python 3 (ipykernel)",
   "language": "python",
   "name": "python3"
  },
  "language_info": {
   "codemirror_mode": {
    "name": "ipython",
    "version": 3
   },
   "file_extension": ".py",
   "mimetype": "text/x-python",
   "name": "python",
   "nbconvert_exporter": "python",
   "pygments_lexer": "ipython3",
   "version": "3.8.3"
  },
  "latex_envs": {
   "LaTeX_envs_menu_present": true,
   "autoclose": false,
   "autocomplete": true,
   "bibliofile": "biblio.bib",
   "cite_by": "apalike",
   "current_citInitial": 1,
   "eqLabelWithNumbers": true,
   "eqNumInitial": 1,
   "hotkeys": {
    "equation": "Ctrl-E",
    "itemize": "Ctrl-I"
   },
   "labels_anchors": false,
   "latex_user_defs": false,
   "report_style_numbering": false,
   "user_envs_cfg": false
  },
  "nbTranslate": {
   "displayLangs": [
    "*"
   ],
   "hotkey": "alt-t",
   "langInMainMenu": true,
   "sourceLang": "en",
   "targetLang": "fr",
   "useGoogleTranslate": true
  }
 },
 "nbformat": 4,
 "nbformat_minor": 5
}
